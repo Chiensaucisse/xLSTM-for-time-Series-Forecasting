{
 "cells": [
  {
   "cell_type": "code",
   "execution_count": 48,
   "id": "cf1f9bf5",
   "metadata": {},
   "outputs": [],
   "source": [
    "import pandas as pd\n",
    "import numpy as np\n",
    "import torch\n",
    "from torch import nn \n",
    "from torch.utils.data import Dataset, DataLoader\n",
    "from sklearn.preprocessing import StandardScaler\n",
    "from pathlib import Path"
   ]
  },
  {
   "cell_type": "code",
   "execution_count": 11,
   "id": "58be9f6c",
   "metadata": {},
   "outputs": [
    {
     "name": "stderr",
     "output_type": "stream",
     "text": [
      "/tmp/ipykernel_10233/845081380.py:1: DtypeWarning: Columns (2) have mixed types. Specify dtype option on import or set low_memory=False.\n",
      "  df = pd.read_csv('solarenergy.csv')\n"
     ]
    }
   ],
   "source": [
    "df = pd.read_csv('solarenergy.csv')"
   ]
  },
  {
   "cell_type": "code",
   "execution_count": 12,
   "id": "e8ec5cbd",
   "metadata": {},
   "outputs": [
    {
     "data": {
      "text/html": [
       "<div>\n",
       "<style scoped>\n",
       "    .dataframe tbody tr th:only-of-type {\n",
       "        vertical-align: middle;\n",
       "    }\n",
       "\n",
       "    .dataframe tbody tr th {\n",
       "        vertical-align: top;\n",
       "    }\n",
       "\n",
       "    .dataframe thead th {\n",
       "        text-align: right;\n",
       "    }\n",
       "</style>\n",
       "<table border=\"1\" class=\"dataframe\">\n",
       "  <thead>\n",
       "    <tr style=\"text-align: right;\">\n",
       "      <th></th>\n",
       "      <th>Datetime</th>\n",
       "      <th>solar_mw</th>\n",
       "      <th>wind-direction</th>\n",
       "      <th>wind-speed</th>\n",
       "      <th>humidity</th>\n",
       "      <th>average-wind-speed-(period)</th>\n",
       "      <th>average-pressure-(period)</th>\n",
       "      <th>temperature</th>\n",
       "    </tr>\n",
       "  </thead>\n",
       "  <tbody>\n",
       "    <tr>\n",
       "      <th>0</th>\n",
       "      <td>03/08/2020 0:00</td>\n",
       "      <td>11385</td>\n",
       "      <td>27</td>\n",
       "      <td>7.5</td>\n",
       "      <td>75.0</td>\n",
       "      <td>8.0</td>\n",
       "      <td>29.82</td>\n",
       "      <td>69.0</td>\n",
       "    </tr>\n",
       "    <tr>\n",
       "      <th>1</th>\n",
       "      <td>02/08/2020 23:00</td>\n",
       "      <td>12390</td>\n",
       "      <td>27</td>\n",
       "      <td>7.5</td>\n",
       "      <td>77.0</td>\n",
       "      <td>5.0</td>\n",
       "      <td>29.85</td>\n",
       "      <td>69.0</td>\n",
       "    </tr>\n",
       "    <tr>\n",
       "      <th>2</th>\n",
       "      <td>02/08/2020 22:00</td>\n",
       "      <td>13312</td>\n",
       "      <td>27</td>\n",
       "      <td>7.5</td>\n",
       "      <td>70.0</td>\n",
       "      <td>0.0</td>\n",
       "      <td>29.89</td>\n",
       "      <td>69.0</td>\n",
       "    </tr>\n",
       "    <tr>\n",
       "      <th>3</th>\n",
       "      <td>02/08/2020 21:00</td>\n",
       "      <td>13832</td>\n",
       "      <td>27</td>\n",
       "      <td>7.5</td>\n",
       "      <td>33.0</td>\n",
       "      <td>0.0</td>\n",
       "      <td>29.91</td>\n",
       "      <td>69.0</td>\n",
       "    </tr>\n",
       "    <tr>\n",
       "      <th>4</th>\n",
       "      <td>02/08/2020 20:00</td>\n",
       "      <td>14038</td>\n",
       "      <td>27</td>\n",
       "      <td>7.5</td>\n",
       "      <td>21.0</td>\n",
       "      <td>3.0</td>\n",
       "      <td>29.89</td>\n",
       "      <td>69.0</td>\n",
       "    </tr>\n",
       "  </tbody>\n",
       "</table>\n",
       "</div>"
      ],
      "text/plain": [
       "           Datetime  solar_mw wind-direction  wind-speed  humidity  \\\n",
       "0   03/08/2020 0:00     11385             27         7.5      75.0   \n",
       "1  02/08/2020 23:00     12390             27         7.5      77.0   \n",
       "2  02/08/2020 22:00     13312             27         7.5      70.0   \n",
       "3  02/08/2020 21:00     13832             27         7.5      33.0   \n",
       "4  02/08/2020 20:00     14038             27         7.5      21.0   \n",
       "\n",
       "   average-wind-speed-(period)  average-pressure-(period)  temperature  \n",
       "0                          8.0                      29.82         69.0  \n",
       "1                          5.0                      29.85         69.0  \n",
       "2                          0.0                      29.89         69.0  \n",
       "3                          0.0                      29.91         69.0  \n",
       "4                          3.0                      29.89         69.0  "
      ]
     },
     "execution_count": 12,
     "metadata": {},
     "output_type": "execute_result"
    }
   ],
   "source": [
    "df.head()"
   ]
  },
  {
   "cell_type": "code",
   "execution_count": 13,
   "id": "06978da5",
   "metadata": {},
   "outputs": [
    {
     "data": {
      "text/plain": [
       "Index(['Datetime', 'solar_mw', 'wind-direction', 'wind-speed', 'humidity',\n",
       "       'average-wind-speed-(period)', 'average-pressure-(period)',\n",
       "       'temperature'],\n",
       "      dtype='object')"
      ]
     },
     "execution_count": 13,
     "metadata": {},
     "output_type": "execute_result"
    }
   ],
   "source": [
    "df.columns"
   ]
  },
  {
   "cell_type": "code",
   "execution_count": 18,
   "id": "de036e38",
   "metadata": {},
   "outputs": [
    {
     "data": {
      "text/plain": [
       "array([['03/08/2020 0:00', 11385, '27', ..., 8.0, 29.82, 69.0],\n",
       "       ['02/08/2020 23:00', 12390, '27', ..., 5.0, 29.85, 69.0],\n",
       "       ['02/08/2020 22:00', 13312, '27', ..., 0.0, 29.89, 69.0],\n",
       "       ...,\n",
       "       ['01/05/2007 3:00', 6583, nan, ..., nan, nan, nan],\n",
       "       ['01/05/2007 2:00', 6803, nan, ..., nan, nan, nan],\n",
       "       ['01/05/2007 1:00', 7190, nan, ..., nan, nan, nan]],\n",
       "      shape=(116117, 8), dtype=object)"
      ]
     },
     "execution_count": 18,
     "metadata": {},
     "output_type": "execute_result"
    }
   ],
   "source": [
    "df.values"
   ]
  },
  {
   "cell_type": "code",
   "execution_count": 32,
   "id": "223f44f7",
   "metadata": {},
   "outputs": [
    {
     "data": {
      "text/plain": [
       "Datetime                        object\n",
       "solar_mw                         int64\n",
       "wind-direction                  object\n",
       "wind-speed                     float64\n",
       "humidity                       float64\n",
       "average-wind-speed-(period)    float64\n",
       "average-pressure-(period)      float64\n",
       "temperature                    float64\n",
       "dtype: object"
      ]
     },
     "execution_count": 32,
     "metadata": {},
     "output_type": "execute_result"
    }
   ],
   "source": [
    "df.dtypes"
   ]
  },
  {
   "cell_type": "code",
   "execution_count": 34,
   "id": "be5849ff",
   "metadata": {},
   "outputs": [
    {
     "data": {
      "text/plain": [
       "array(['27', '27', '27', ..., nan, nan, nan],\n",
       "      shape=(116117,), dtype=object)"
      ]
     },
     "execution_count": 34,
     "metadata": {},
     "output_type": "execute_result"
    }
   ],
   "source": [
    "df['wind-direction'].values"
   ]
  },
  {
   "cell_type": "code",
   "execution_count": 41,
   "id": "bc0791b0",
   "metadata": {},
   "outputs": [],
   "source": [
    "class TimeSeriesDataset(Dataset):\n",
    "\n",
    "    def __init__(self, root_path, mode = 'train', data_path = 'solarenergy.csv',\n",
    "                 size = None, scale = True, features = 'M' ,target = None):\n",
    "        \n",
    "        self.seq_len = size[0]\n",
    "        self.label_len = size[1]\n",
    "        self.pred_len = size[2]\n",
    "\n",
    "        assert mode in ['train', 'val', 'test']\n",
    "        mode_map = {'train': 0, 'val': 1, \"test\": 2}\n",
    "        self.set_mode = mode_map[mode]\n",
    "        self.features = features\n",
    "        self.target = target\n",
    "\n",
    "        self.root_path = root_path\n",
    "        self.data_path = data_path\n",
    "        self.scale = scale\n",
    "        self.__read_data__()\n",
    "\n",
    "    \n",
    "    def __read_data__(self):\n",
    "        self.scaler = StandardScaler()\n",
    "        df_raw = pd.read_csv(Path(self.root_path) / self.data_path)\n",
    "\n",
    "       \n",
    "\n",
    "\n",
    "        num_train = int(len(df_raw) * 0.7)\n",
    "        num_test = int(len(df_raw) * 0.2)\n",
    "        num_val = int(len(df_raw) * 0.1)\n",
    "\n",
    "        borders1 = [0, num_train - self.seq_len, len(df_raw) - num_test - self.seq_len]\n",
    "        borders2 = [num_train, num_train + num_val, len(df_raw)]\n",
    "\n",
    "        border1 = borders1[self.set_mode]\n",
    "        border2 = borders2[self.set_mode]\n",
    "\n",
    "        if self.features == 'M':\n",
    "            cols_data = df_raw.columns[1:]\n",
    "            df_data = df_raw[cols_data]\n",
    "        elif self.features == 'S':\n",
    "            df_data = df_raw[[self.target]]\n",
    "\n",
    "        df_data =  df_data.apply(pd.to_numeric, errors='coerce').fillna(method='ffill').fillna(method='bfill').values\n",
    "\n",
    "        \n",
    "        if self.scale:\n",
    "            train_data = df_data[borders1[0] : borders2[0]]\n",
    "            self.scaler.fit(train_data)\n",
    "            data  = self.scaler.transform(df_data)\n",
    "        else:\n",
    "            data = df_data\n",
    "        \n",
    "        self.X = data[border1:border2]\n",
    "        self.y = data[border1:border2]\n",
    "    \n",
    "    def __getitem__(self, index):\n",
    "        x_start  = index\n",
    "        x_end = x_start + self.seq_len\n",
    "        y_start  = x_end - self.label_len\n",
    "        y_end = y_start + self.label_len + self.pred_len\n",
    "\n",
    "        seq_x = self.X[x_start:x_end]\n",
    "        seq_y = self.y[y_start:y_end]\n",
    "\n",
    "        return seq_x, seq_y\n",
    "    \n",
    "    def __len__(self):\n",
    "        return len(self.X) - self.seq_len - self.pred_len + 1\n",
    "    \n",
    "    def reverse_transform(self, data):\n",
    "        return self.scaler.inverse_transform(data)"
   ]
  },
  {
   "cell_type": "code",
   "execution_count": 22,
   "id": "9f59095a",
   "metadata": {},
   "outputs": [],
   "source": [
    "def create_windows_multivariate(data, lookback, horizon):\n",
    "    X, Y = [], []\n",
    "    for i in range(len(data) - lookback - horizon + 1):\n",
    "        X.append(data[i: i + lookback])\n",
    "        Y.append(data[i + lookback: i + lookback + horizon])\n",
    "    \n",
    "    return np.asarray(X), np.asarray(Y)"
   ]
  },
  {
   "cell_type": "code",
   "execution_count": 10,
   "id": "0d5bcf67",
   "metadata": {},
   "outputs": [],
   "source": [
    "def patch_sequence(x, patch_size):\n",
    "    L = x.shape[0]\n",
    "    n_patches =  L // patch_size\n",
    "    x = x[:n_patches * patch_size]\n",
    "\n",
    "    return x.reshape(n_patches, patch_size)"
   ]
  },
  {
   "cell_type": "code",
   "execution_count": 42,
   "id": "805e41a8",
   "metadata": {},
   "outputs": [
    {
     "name": "stderr",
     "output_type": "stream",
     "text": [
      "/tmp/ipykernel_10233/1665034011.py:24: DtypeWarning: Columns (2) have mixed types. Specify dtype option on import or set low_memory=False.\n",
      "  df_raw = pd.read_csv(Path(self.root_path) / self.data_path)\n",
      "/tmp/ipykernel_10233/1665034011.py:45: FutureWarning: DataFrame.fillna with 'method' is deprecated and will raise in a future version. Use obj.ffill() or obj.bfill() instead.\n",
      "  df_data =  df_data.apply(pd.to_numeric, errors='coerce').fillna(method='ffill').fillna(method='bfill').values\n"
     ]
    }
   ],
   "source": [
    "L = 10\n",
    "T = 5 \n",
    "size = (L,0,T)\n",
    "\n",
    "dataset = TimeSeriesDataset(root_path='.', mode = 'train', size= size)"
   ]
  },
  {
   "cell_type": "code",
   "execution_count": 46,
   "id": "1f489285",
   "metadata": {},
   "outputs": [
    {
     "name": "stdout",
     "output_type": "stream",
     "text": [
      "(10, 7)\n",
      "(5, 7)\n"
     ]
    }
   ],
   "source": [
    "x, y = dataset[0]\n",
    "print(x.shape)\n",
    "print(y.shape)"
   ]
  },
  {
   "cell_type": "code",
   "execution_count": 53,
   "id": "59c92e72",
   "metadata": {},
   "outputs": [
    {
     "name": "stdout",
     "output_type": "stream",
     "text": [
      "torch.Size([32, 10, 7]) torch.Size([32, 5, 7])\n"
     ]
    }
   ],
   "source": [
    "batch_size = 32\n",
    "dataloader = DataLoader(dataset, batch_size= batch_size, shuffle= True)\n",
    "sample = next(iter(dataloader))\n",
    "print(sample[0].shape,sample[1].shape)"
   ]
  },
  {
   "cell_type": "code",
   "execution_count": null,
   "id": "71aa03e2",
   "metadata": {},
   "outputs": [],
   "source": [
    "class sLSTMcell(nn.Module):\n",
    "    def __init__(self, input_dim, hidden_dim):\n",
    "\n",
    "        self.Wi = nn.Linear(input_dim, hidden_dim, bias= True)\n",
    "        self.Ri = nn.Linear(hidden_dim, hidden_dim, bias= True)"
   ]
  },
  {
   "cell_type": "code",
   "execution_count": null,
   "id": "d689ecf7",
   "metadata": {},
   "outputs": [],
   "source": []
  },
  {
   "cell_type": "code",
   "execution_count": null,
   "id": "d55d3d0a",
   "metadata": {},
   "outputs": [],
   "source": []
  },
  {
   "cell_type": "code",
   "execution_count": null,
   "id": "fd172883",
   "metadata": {},
   "outputs": [],
   "source": []
  },
  {
   "cell_type": "code",
   "execution_count": null,
   "id": "84157fe4",
   "metadata": {},
   "outputs": [],
   "source": []
  },
  {
   "cell_type": "code",
   "execution_count": null,
   "id": "c14fdb5e",
   "metadata": {},
   "outputs": [],
   "source": []
  },
  {
   "cell_type": "code",
   "execution_count": null,
   "id": "89a68903",
   "metadata": {},
   "outputs": [],
   "source": []
  }
 ],
 "metadata": {
  "kernelspec": {
   "display_name": ".venv",
   "language": "python",
   "name": "python3"
  },
  "language_info": {
   "codemirror_mode": {
    "name": "ipython",
    "version": 3
   },
   "file_extension": ".py",
   "mimetype": "text/x-python",
   "name": "python",
   "nbconvert_exporter": "python",
   "pygments_lexer": "ipython3",
   "version": "3.10.12"
  }
 },
 "nbformat": 4,
 "nbformat_minor": 5
}
